{
 "cells": [
  {
   "cell_type": "code",
   "execution_count": 4,
   "metadata": {},
   "outputs": [],
   "source": [
    "import numpy as np\n",
    "from numpy import pi\n",
    "from scipy.optimize import minimize\n",
    "import matplotlib.pyplot as plt\n",
    "\n",
    "import pandas as pd\n",
    "import random\n",
    "from qutip import *\n",
    "import matplotlib.pyplot as plt\n",
    "from scipy.interpolate import interp1d\n",
    "\n",
    "%matplotlib inline"
   ]
  },
  {
   "cell_type": "markdown",
   "metadata": {},
   "source": [
    "# CRAB optimization of asymmetric Szilard engine"
   ]
  },
  {
   "cell_type": "markdown",
   "metadata": {},
   "source": [
    "This is a program to calculate optimal protocols that effectively split the quantum wavefunction of a single-particle-box in two equal halves, by inserting an off-center barrier. See https://doi.org/10.1103/PhysRevA.99.022121 for details."
   ]
  },
  {
   "cell_type": "markdown",
   "metadata": {},
   "source": [
    "## Import data to calculate stationary states"
   ]
  },
  {
   "cell_type": "code",
   "execution_count": 18,
   "metadata": {},
   "outputs": [],
   "source": [
    "def interp_generator(a):\n",
    "\n",
    "    max_lvl = 4 \n",
    "\n",
    "    tab_alfa = np.loadtxt('/home/vegard/Split-wavefunction/data/alfa/alfa_a_' + \"{:.3f}\".format(a) + '.txt', delimiter = ',')        \n",
    "    energies = np.loadtxt('/home/vegard/Split-wavefunction/data/energies/Energies_a_' + \"{:.3f}\".format(a) + '.txt', delimiter = ',')\n",
    "    overlap = np.loadtxt('/home/vegard/Split-wavefunction/data/overlap/overlap_a_' + \"{:.3f}\".format(a)+ '.txt', delimiter = ',')\n",
    "\n",
    "    overlap = np.reshape(overlap, [max_lvl,max_lvl,5001], order = 'F')\n",
    "\n",
    "    interp_energy = [None]*max_lvl\n",
    "\n",
    "    for n in range(max_lvl):\n",
    "        f = interp1d(tab_alfa,energies[:,n], kind = 'cubic')\n",
    "        interp_energy[n] = f\n",
    "\n",
    "    interp_overlap = [[0] * max_lvl for i in range(max_lvl)]\n",
    "\n",
    "    for n in range(max_lvl):\n",
    "        for m in range(max_lvl):\n",
    "            interp_overlap[n][m] = interp1d(tab_alfa,overlap[n,m,:], kind = 'cubic')\n",
    "\n",
    "    return interp_energy, interp_overlap"
   ]
  },
  {
   "cell_type": "markdown",
   "metadata": {},
   "source": [
    "## CRAB optimization"
   ]
  },
  {
   "cell_type": "code",
   "execution_count": 29,
   "metadata": {},
   "outputs": [
    {
     "data": {
      "text/plain": [
       "[<matplotlib.lines.Line2D at 0x7f9367c68048>]"
      ]
     },
     "execution_count": 29,
     "metadata": {},
     "output_type": "execute_result"
    },
    {
     "data": {
      "image/png": "[encoded data removed]",
      "text/plain": [
       "<Figure size 432x288 with 1 Axes>"
      ]
     },
     "metadata": {},
     "output_type": "display_data"
    }
   ],
   "source": [
    "## Define time grid, and regularization function (for fixed boundary conditions)\n",
    "\n",
    "t_max = 5.0\n",
    "dt = 1e-2\n",
    "N_t = int(t_max/dt)\n",
    "\n",
    "time = np.linspace(0,t_max,N_t)\n",
    "\n",
    "reg = np.sin(time*pi/(t_max))**2\n",
    "\n",
    "asymmetry = 0.530\n",
    "interp_energy, interp_overlap = interp_generator(asymmetry)\n",
    "\n",
    "## Generate initial guess protocol to improve upon\n",
    "max_lvl = 4\n",
    "alfa_max = 2000.0\n",
    "max_alfa = 3000.0\n",
    "\n",
    "a = alfa_max/t_max\n",
    "\n",
    "alfa_guess = a*time\n",
    "\n",
    "## Choose number of terms in the Fourier expansion and generate protocol alfa\n",
    "\n",
    "N_c = 10\n",
    "A = np.zeros(N_c)*0.5\n",
    "B = np.zeros(N_c)*0.5\n",
    "w = np.zeros(N_c)*0.5\n",
    "x0 = np.append(A,np.append(B,w))\n",
    "\n",
    "fourier = sum([A[n]*np.cos(w[n]*time) + B[n]*np.sin(w[n]*time) for n in range (N_c)])\n",
    "\n",
    "alfa = alfa_guess*( 1 + reg*fourier )\n",
    "\n",
    "plt.plot(time,alfa)"
   ]
  },
  {
   "cell_type": "markdown",
   "metadata": {},
   "source": [
    "## Use either Nelder-Mead or Powell's method to minimize the cost function"
   ]
  },
  {
   "cell_type": "code",
   "execution_count": 1,
   "metadata": {},
   "outputs": [],
   "source": [
    "res_nm = minimize(Szilard, x0, method='nelder-mead') "
   ]
  },
  {
   "cell_type": "code",
   "execution_count": 2,
   "metadata": {},
   "outputs": [],
   "source": [
    "res_pow = minimize(Szilard, x0, method='Powell')"
   ]
  },
  {
   "cell_type": "markdown",
   "metadata": {},
   "source": [
    "## Environment function"
   ]
  },
  {
   "cell_type": "markdown",
   "metadata": {},
   "source": [
    "This function takes the fourier coefficients as input, uses them to solve the Shrødinger equation for the associated protocol, thus obtaining the final probability distribution of the energy eigenstates. These final eigenstates is used to determine the value of a cost function that we want to minimize, whose value is given as an output for the Nelder-Mead or Powell's method."
   ]
  },
  {
   "cell_type": "code",
   "execution_count": 33,
   "metadata": {},
   "outputs": [],
   "source": [
    "def Szilard(x):\n",
    "        \n",
    "    A = x[0:N_c]\n",
    "    B = x[N_c:2*N_c]\n",
    "    w = x[2*N_c:3*N_c]\n",
    "    \n",
    "    #print(A, B, w)\n",
    "    \n",
    "    fourier = sum([A[n]*np.cos(w[n]*time) + B[n]*np.sin(w[n]*time) for n in range (N_c)])\n",
    "    \n",
    "    noise = np.array([np.random.normal(0,0) for n in range (N_t)])\n",
    "\n",
    "    alfa = abs(alfa_guess*( 1 + reg*fourier ) + noise )\n",
    "    \n",
    "\n",
    "\n",
    "    ## CALCULATE TIME DEPENDENCE OF ENERGY FOR GIVEN PROTOCOL\n",
    "\n",
    "    E = []\n",
    "\n",
    "    for t in range(N_t):\n",
    "        E.append([interp_energy[n](alfa[t]) for n in range(max_lvl)])\n",
    "\n",
    "    E = np.array(E)\n",
    "    E.shape\n",
    "\n",
    "    ## CALCULATE PHASE\n",
    "\n",
    "    phi = []\n",
    "\n",
    "    for t in range(N_t):\n",
    "\n",
    "            integral = [np.trapz(x=time[0:t+1], y= E[0:t+1,n]) for n in range(max_lvl)]\n",
    "\n",
    "            phi.append(integral)  \n",
    "\n",
    "    phi = np.array(phi)   \n",
    "\n",
    "    def interaction(n, alfa, f = []):\n",
    "        test = sum([interp_overlap[n][m](alfa)*np.exp(1j*(phi[t,n] - phi[t,m]) )*f[m] for m in range(max_lvl) if m != n ])*dalfa\n",
    "        return test\n",
    "\n",
    "\n",
    "    ## SOLVE DIFFERENTIAL EQUATION WITH RK4\n",
    "\n",
    "    C = np.array([ 0 for n in range(max_lvl) ])\n",
    "    C[0] = 1\n",
    "    C_new = np.array( [ 0 for n in range(max_lvl) ])\n",
    "    C_t = []\n",
    "    C_t.append(C)\n",
    "\n",
    "    for t in range(N_t -1):\n",
    "\n",
    "        dalfa = (alfa[t+1] - alfa[t])/dt\n",
    "\n",
    "        k1 = np.array([dt*interaction(n, alfa[t], C ) for n in range(max_lvl)])\n",
    "        k2 = np.array([dt*interaction(n, alfa[t]+ dalfa*dt/2, C + k1/2 ) for n in range(max_lvl)])\n",
    "        k3 = np.array([dt*interaction(n, alfa[t]+ dalfa*dt/2, C + k2/2 ) for n in range(max_lvl)])\n",
    "        k4 = np.array([dt*interaction(n, alfa[t]+ dalfa*dt, C + k3) for n in range(max_lvl)])\n",
    "\n",
    "        C_new = C + (k1 + 2*k2 + 2*k3 + k4)/6\n",
    "\n",
    "        C = C_new\n",
    "        \n",
    "        C_t.append(C)\n",
    "\n",
    "    C_t = np.array(C_t)\n",
    "    \n",
    "    c1 = abs(C[0])**2\n",
    "    c2 = abs(C[1])**2\n",
    "    sigma = 0.05\n",
    "    \n",
    "    leakage = sum( abs(C[n])**2 for n in range(2,max_lvl)  )\n",
    "    punishment = 1 - np.exp( -((c1-0.5)**2 + (c2-0.5)**2)/(sigma))\n",
    "    \n",
    "    print('c1: {}, c2: {}, punishment: {}'.format(c1,c2,punishment))\n",
    "    #plt.plot(time,alfa)\n",
    "    \n",
    "    return punishment"
   ]
  },
  {
   "cell_type": "markdown",
   "metadata": {},
   "source": [
    "## Test how well the protocol performs on asymmetries that it has not been optimized for."
   ]
  },
  {
   "cell_type": "code",
   "execution_count": null,
   "metadata": {},
   "outputs": [],
   "source": [
    "leakage = [0 for n in range (51,61)]\n",
    "asymmetry = [0 for n in range (51,61)]\n",
    "punishment = [0 for n in range (51,61)]\n",
    "\n",
    "k = 0\n",
    "for n in range (51,61):\n",
    "    asymmetry[k] = round(0.01*n,2)\n",
    "    print(asymmetry)\n",
    "    interp_energy, interp_overlap = interp_gen(asymmetry[k])\n",
    "    punishment[k], leakage[k] = Szilard(test)\n",
    "    \n",
    "    k +=1\n",
    "    \n",
    "plt.plot(asymmetry,punishment)"
   ]
  }
 ],
 "metadata": {
  "kernelspec": {
   "display_name": "Python 3",
   "language": "python",
   "name": "python3"
  },
  "language_info": {
   "codemirror_mode": {
    "name": "ipython",
    "version": 3
   },
   "file_extension": ".py",
   "mimetype": "text/x-python",
   "name": "python",
   "nbconvert_exporter": "python",
   "pygments_lexer": "ipython3",
   "version": "3.6.5"
  }
 },
 "nbformat": 4,
 "nbformat_minor": 2
}
